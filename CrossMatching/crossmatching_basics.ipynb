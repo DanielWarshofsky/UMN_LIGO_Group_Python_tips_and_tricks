{
 "cells": [
  {
   "cell_type": "code",
   "execution_count": null,
   "metadata": {},
   "outputs": [],
   "source": [
    "#use env ../speedPy.yml\n",
    "import numpy as np\n",
    "import astropy.units as u\n",
    "from astropy.coordinates import SkyCoord \n",
    "from scipy.spatial import KDTree\n",
    "import time\n",
    "import timeit\n",
    "from astroquery.vizier import Vizier\n",
    "from astropy.table import Table\n",
    "\n",
    "def summary(name,timeit_results):\n",
    "    r=np.array(timeit_results)\n",
    "    print(f'{name} {r.size} runs: \\n Mean {r.mean()} \\n Standard deviation {r.std()}')"
   ]
  },
  {
   "cell_type": "markdown",
   "metadata": {},
   "source": [
    "## Cross matching\n",
    "A common task in astronomy is to match coordinates. Say I have two sets of coordinates A and B. For each point in A I want to find all points in B that are within $\\delta\\theta$ of the point in set A. In pseudo code you might write this as \n",
    "\n",
    "    matches=[]\n",
    "    for a in A:\n",
    "        close=[]\n",
    "            for b in B:\n",
    "                if distance(a,b)< dt:\n",
    "                    close.append(b)\n",
    "        matches.append(close)\n",
    "\n",
    "There are two complications with this naive algorithm.\n",
    "1) How to compute distance(a,b)\n",
    "2) This is one to one |A||B| times. Can this be done like\n",
    "    1) one to many |A| times  (measue a to B |A| times)\n",
    "    2) many to many |1| times (compute all distances at once)\n",
    "\n",
    "Along the way Ill show how you can using pre-existing packages and custom math the do this fast in the general and small angle separation case"
   ]
  },
  {
   "cell_type": "markdown",
   "metadata": {},
   "source": [
    "### Defining coordinates\n",
    "\n",
    "The choice of coordinates is important so we are all talking about the same stuff. Typically the polar angle (declination) is measured from the equator of the sphere letting it range from -90 to +90. I dont want to deal with negative numbers so Ill redefine coordinates like this\n",
    "\n",
    "$$ (\\phi,\\theta) --> (\\phi,|\\theta-90|)=(\\phi,\\theta') $$\n",
    "\n",
    "where $\\theta$ is the declination and $\\phi$ is the Right Accension. So $\\theta'\\in[0,180]$ and $\\phi\\in [0,360)$"
   ]
  },
  {
   "cell_type": "code",
   "execution_count": 2,
   "metadata": {},
   "outputs": [],
   "source": [
    "np.random.seed(42)\n",
    "size=10000\n",
    "A=np.array([np.random.uniform(low=0,high=360,size=size),np.random.uniform(low=0,high=180,size=size)]).T\n",
    "B=np.array([np.random.uniform(low=0,high=360,size=size),np.random.uniform(low=0,high=180,size=size)]).T\n",
    "# get a single coordinate by indexing along the first axis"
   ]
  },
  {
   "cell_type": "markdown",
   "metadata": {},
   "source": [
    "First lets implement the pseudo-code and see how fast it is. For this Ill use Astropy's skycoord object which has a distance built into it"
   ]
  },
  {
   "cell_type": "code",
   "execution_count": 3,
   "metadata": {},
   "outputs": [],
   "source": [
    "#https://docs.astropy.org/en/stable/api/astropy.coordinates.SkyCoord.html\n",
    "#dt= 0.000555556 # 2 arc sec\n",
    "dt= 5\n",
    "def simplest_cross_match(A,B,dt=5):\n",
    "    matches=[]\n",
    "    for a in A:\n",
    "        a_coord=SkyCoord(ra=a[0],dec=90-a[1],unit='deg') #convert dec back to astro definition for this example\n",
    "        close_index=[]\n",
    "        for i,b in enumerate(B):\n",
    "            b_coord=SkyCoord(ra=b[0],dec=90-b[1],unit='deg')\n",
    "            if a_coord.separation(b_coord).value < dt:\n",
    "                close_index.append(i)\n",
    "        matches.append(close_index)\n",
    "    return matches"
   ]
  },
  {
   "cell_type": "code",
   "execution_count": 4,
   "metadata": {},
   "outputs": [
    {
     "name": "stdout",
     "output_type": "stream",
     "text": [
      "simplest cross match only 100 coords 5 runs: \n",
      " Mean 5.2450774168006316 \n",
      " Standard deviation 0.03122704825221704\n"
     ]
    }
   ],
   "source": [
    "simplest_cross_match_times=timeit.Timer(f'simplest_cross_match(A[0:100],B[0:100],dt=5)',globals=globals()).repeat(5,number=1)\n",
    "summary('simplest cross match only 100 coords',simplest_cross_match_times)"
   ]
  },
  {
   "cell_type": "markdown",
   "metadata": {},
   "source": [
    "5 seconds for only 100 source catalogs!!! This is quite slow. There are some more methods with SkyCoords that may be faster, lets look at those first before doing anything crazy."
   ]
  },
  {
   "cell_type": "code",
   "execution_count": 5,
   "metadata": {},
   "outputs": [],
   "source": [
    "def skycoord_cross_match(A,B,dt=5):\n",
    "    A_coord=SkyCoord(ra=A.T[0],dec=90-A.T[1],unit='deg')\n",
    "    B_coord=SkyCoord(ra=B.T[0],dec=90-B.T[1],unit='deg')\n",
    "    idxsearch,idxself,d2d,d3d=A_coord.search_around_sky(B_coord,seplimit=dt*u.deg)\n",
    "    match=[idxsearch[idxself==i] for i in range(len(A_coord))]\n",
    "    return match"
   ]
  },
  {
   "cell_type": "code",
   "execution_count": 6,
   "metadata": {},
   "outputs": [
    {
     "name": "stdout",
     "output_type": "stream",
     "text": [
      "skycoord cross_match ALL coords 5 runs: \n",
      " Mean 1.6309715501993196 \n",
      " Standard deviation 0.011992009147250276\n"
     ]
    }
   ],
   "source": [
    "skycoord_cross_match_times=timeit.Timer(f'skycoord_cross_match(A,B,dt=5)',globals=globals()).repeat(5,number=1)\n",
    "summary('skycoord cross_match ALL coords',skycoord_cross_match_times)"
   ]
  },
  {
   "cell_type": "markdown",
   "metadata": {},
   "source": [
    "Can we do better? Each time we want to do this we have the cost of creating a SkyCoord object. What is the cost of this?"
   ]
  },
  {
   "cell_type": "code",
   "execution_count": 7,
   "metadata": {},
   "outputs": [
    {
     "name": "stdout",
     "output_type": "stream",
     "text": [
      "Time to make sky coords 100 runs: \n",
      " Mean 0.0004695606231689453 \n",
      " Standard deviation 9.66069992530121e-05\n"
     ]
    }
   ],
   "source": [
    "times=[] #not using timeit this time\n",
    "reps=100\n",
    "size=10000\n",
    "for i in range(reps):\n",
    "    c1=np.array([np.random.uniform(low=0,high=360,size=size),np.random.uniform(low=0,high=180,size=size)]).T\n",
    "    c2=np.array([np.random.uniform(low=0,high=360,size=size),np.random.uniform(low=0,high=180,size=size)]).T\n",
    "    ts=time.time() # dont count generating the numbers\n",
    "    A_coord=SkyCoord(ra=c1.T[0],dec=90-c1.T[1],unit='deg')\n",
    "    B_coord=SkyCoord(ra=c2.T[0],dec=90-c2.T[1],unit='deg')\n",
    "    times.append(time.time()-ts)\n",
    "    #make sure its not hiding in memory still\n",
    "    del c1\n",
    "    del c2\n",
    "    del A_coord\n",
    "    del B_coord\n",
    "\n",
    "summary('Time to make sky coords',times)"
   ]
  },
  {
   "cell_type": "markdown",
   "metadata": {},
   "source": [
    "Almost no cost, this is going to be hard to beat. The method I will use is the same as astropy but since I'm building it dedicated to cross matching I may be able to save some time. \n",
    "\n",
    "This is how the algorithm work.\n",
    "\n",
    "1) Transform coordinates to cartesian coordinates\n",
    "2) Convert the angular separation to a 3D distance to do the comparison\n",
    "3) use a kdtree to do the matching"
   ]
  },
  {
   "cell_type": "code",
   "execution_count": 8,
   "metadata": {},
   "outputs": [
    {
     "name": "stdout",
     "output_type": "stream",
     "text": [
      "Spherical to cartisan 10,000 points 1000 runs: \n",
      " Mean 0.0005650236640176445 \n",
      " Standard deviation 5.793141598973002e-05\n"
     ]
    }
   ],
   "source": [
    "#Step 1 convert to cart\n",
    "def sph_to_cart(catalog):\n",
    "    catalog=(catalog*np.pi/180).T #convert to radians\n",
    "    sindec=np.sin(catalog[1])\n",
    "    sinra=np.sin(catalog[0])\n",
    "    cosdec=np.cos(catalog[1])\n",
    "    cosra=np.cos(catalog[0])\n",
    "    return np.asarray([sindec*cosra,sindec*sinra,cosdec])\n",
    "\n",
    "cord_transform=timeit.Timer(f'sph_to_cart(A)',globals=globals()).repeat(1000,number=1)\n",
    "summary('Spherical to cartisan 10,000 points',cord_transform)"
   ]
  },
  {
   "cell_type": "markdown",
   "metadata": {},
   "source": [
    "step 2\n",
    "\n",
    "The angular separation $\\Delta\\delta$ can corresponds to a chord on a unit circle so\n",
    "\n",
    "$$\n",
    "s^2=1^2+1^2-2\\cdot1\\cdot1\\cos{\\Delta\\delta}=2\\left(1-\\cos{\\Delta\\delta}\\right)=4\\sin^2(\\Delta\\delta/2)\n",
    "$$\n",
    "\n",
    "So our search criterion is just the distance is less than $2\\sin(\\Delta\\delta)$ !!"
   ]
  },
  {
   "cell_type": "markdown",
   "metadata": {},
   "source": [
    "Step 3\n",
    "\n",
    "Before we go to step 3 lets see the timing if we dont use a kdtree"
   ]
  },
  {
   "cell_type": "code",
   "execution_count": 9,
   "metadata": {},
   "outputs": [
    {
     "name": "stdout",
     "output_type": "stream",
     "text": [
      "Cross match loop 10,000 points 100 runs: \n",
      " Mean 0.44492804751982473 \n",
      " Standard deviation 0.02040022541295747\n"
     ]
    }
   ],
   "source": [
    "def cart_cross_manual(A,B,sep=5): #sep in units of deg\n",
    "    C1=sph_to_cart(A)\n",
    "    C2=sph_to_cart(B).T\n",
    "    dsep=2*np.sin(np.pi*sep/360)\n",
    "    matches=[]\n",
    "    for c1 in C1.T:\n",
    "        dist=np.sqrt(((c1-C2)**2).sum(axis=1))\n",
    "        matches.append(np.argwhere(dist<dsep)[:,0])\n",
    "    return matches\n",
    "loop_match=timeit.Timer(f'cart_cross_manual(A,B)',globals=globals()).repeat(100,number=1)\n",
    "summary('Cross match loop 10,000 points',loop_match)"
   ]
  },
  {
   "cell_type": "markdown",
   "metadata": {},
   "source": [
    "Haha!! I beat Astropy!!!!!! Now do it with a kdtree"
   ]
  },
  {
   "cell_type": "code",
   "execution_count": 10,
   "metadata": {},
   "outputs": [
    {
     "name": "stdout",
     "output_type": "stream",
     "text": [
      "KDTree match 10,000 points 100 runs: \n",
      " Mean 0.014575100420042873 \n",
      " Standard deviation 0.00028440704314661224\n"
     ]
    }
   ],
   "source": [
    "def cross_match_kdtree(A,B,sep=0.000555556,njobs=-1,eps=0): #sep is 2 arc sec\n",
    "    C1=sph_to_cart(A).T\n",
    "    C2=sph_to_cart(B).T\n",
    "    dsep=2*np.sin(np.pi*sep/360)\n",
    "    tree=KDTree(C2)\n",
    "    results=tree.query_ball_point(C1,dsep,workers=njobs,eps=eps)\n",
    "    return results\n",
    "kdt_match=timeit.Timer(f'cross_match_kdtree(A,B,njobs=1)',globals=globals()).repeat(100,number=1)\n",
    "summary('KDTree match 10,000 points',kdt_match)"
   ]
  },
  {
   "cell_type": "markdown",
   "metadata": {},
   "source": [
    "This is already 10x faster and its only using 1 core. By setting the workers parameter to -1 it maxes out the number of processesrs. Using the kwarg eps we can get an approximate solution which should speed things up."
   ]
  },
  {
   "cell_type": "code",
   "execution_count": 11,
   "metadata": {},
   "outputs": [
    {
     "name": "stdout",
     "output_type": "stream",
     "text": [
      "KDTree match 10,000 points 100 runs: \n",
      " Mean 0.014555466629972216 \n",
      " Standard deviation 0.0006061893097968629\n"
     ]
    }
   ],
   "source": [
    "kdt_match=timeit.Timer(f'cross_match_kdtree(A,B,njobs=1,eps=0.0000555556)',globals=globals()).repeat(100,number=1) #eps of .2 arcsec\n",
    "summary('KDTree match 10,000 points',kdt_match)"
   ]
  },
  {
   "cell_type": "markdown",
   "metadata": {},
   "source": [
    "This catalog is realistic. The points are too sparse so the kdtree is not doing any work. The following is a better way to test these methods."
   ]
  },
  {
   "cell_type": "markdown",
   "metadata": {},
   "source": [
    "# REAL EXAMPLE\n",
    "For this example I will download two catalogs from Vizier through python and perform a crossmatch"
   ]
  },
  {
   "cell_type": "markdown",
   "metadata": {},
   "source": [
    "## The task\n",
    "\n",
    "You are a young researcher who is interested varible sources in ZTF (who could that be?). You have a list of potentially interesting sources but you only want to report sources that haven't been classified as variable by GAIA. How can you go about doing this fast? "
   ]
  },
  {
   "cell_type": "code",
   "execution_count": 12,
   "metadata": {},
   "outputs": [],
   "source": [
    "# read in the tables from the web\n",
    "Vizier.ROW_LIMIT = 1e6\n",
    "ZTF_cat = Vizier.get_catalogs('J/ApJS/249/18/table2')\n",
    "column_filters={'DE_ICRS':f'>{ZTF_cat[0][\"DEJ2000\"].min()}',\n",
    "                'DE_ICRS':f'<{ZTF_cat[0][\"DEJ2000\"].max()}'} #there are so many gaia sources that we can do a little filtering first\n",
    "v=Vizier(column_filters=column_filters)\n",
    "v.ROW_LIMIT=1e7\n",
    "GAIA_cat = v.get_catalogs('I/358/vclassre')"
   ]
  },
  {
   "cell_type": "code",
   "execution_count": 13,
   "metadata": {},
   "outputs": [],
   "source": [
    "# Save files so I dont have to ask for the data every time\n",
    "# use the parquet format to speed things up\n",
    "ZTF_cat[0].write('Chen2020_table2.pq',format='parquet')\n",
    "GAIA_cat[0].write('Gaia_subset.pq',format='parquet')"
   ]
  },
  {
   "cell_type": "code",
   "execution_count": 14,
   "metadata": {},
   "outputs": [],
   "source": [
    "ZTF_cat=Table.read('Chen2020_table2.pq',format='parquet')\n",
    "GAIA_cat=Table.read('Gaia_subset.pq',format='parquet')"
   ]
  },
  {
   "cell_type": "code",
   "execution_count": 16,
   "metadata": {},
   "outputs": [
    {
     "name": "stdout",
     "output_type": "stream",
     "text": [
      "Number of sources in GAIA catalog: 9953751\n",
      "Number of sources in Chen2020 ZTF varible catalog: 781602\n",
      "cross match time KDT 4.313793897628784\n",
      "There are 216699 sources in Chen2020 ZTF varible catalog not in this subset of GAIA\n"
     ]
    }
   ],
   "source": [
    "# extract subtables with only the coordinates\n",
    "GAIA_coords=GAIA_cat[['RA_ICRS','DE_ICRS']]\n",
    "ZTF_coords=ZTF_cat[['RAJ2000','DEJ2000']]\n",
    "# we will ignore that the frames of the catalogs are different (j2000 vs icrs)\n",
    "print(f'Number of sources in GAIA catalog: {len(GAIA_coords)}')\n",
    "print(f'Number of sources in Chen2020 ZTF varible catalog: {len(ZTF_coords)}')\n",
    "\n",
    "ts=time.time()\n",
    "# convert the dec to the convention that I use\n",
    "GAIA_coords['DE_ICRS']=-1*(GAIA_coords['DE_ICRS']-90)\n",
    "ZTF_coords['DEJ2000']=-1*(ZTF_coords['DEJ2000']-90)\n",
    "#cast to numpy\n",
    "A=ZTF_coords.to_pandas().to_numpy()\n",
    "B=GAIA_coords.to_pandas().to_numpy()\n",
    "# run the matching\n",
    "matches_zero_eps = cross_match_kdtree(A,B,sep=0.00055,njobs=-1) # 2 arc sec\n",
    "print(f'cross match time KDT {time.time()-ts}')\n",
    "unique_sources_mask=[len(l)==0 for l in matches_zero_eps]\n",
    "unique_sources=ZTF_cat[unique_sources_mask]\n",
    "print(f'There are {sum(unique_sources_mask)} sources in Chen2020 ZTF varible catalog not in this subset of GAIA')\n",
    "del A\n",
    "del B"
   ]
  },
  {
   "cell_type": "code",
   "execution_count": 17,
   "metadata": {},
   "outputs": [
    {
     "name": "stdout",
     "output_type": "stream",
     "text": [
      "cross match time Skycoords 6.592687129974365\n"
     ]
    }
   ],
   "source": [
    "# extract subtables with only the coordinates\n",
    "from astropy.coordinates import SkyCoord\n",
    "import astropy.units as u\n",
    "GAIA_coords=GAIA_cat[['RA_ICRS','DE_ICRS']]\n",
    "ZTF_coords=ZTF_cat[['RAJ2000','DEJ2000']]\n",
    "#cast to numpy\n",
    "ts=time.time()\n",
    "A=SkyCoord(ra=ZTF_coords['RAJ2000'],dec=ZTF_coords['DEJ2000'],unit='deg')\n",
    "B=SkyCoord(ra=GAIA_coords['RA_ICRS'],dec=GAIA_coords['DE_ICRS'],unit='deg')\n",
    "\n",
    "# run the matching\n",
    "\n",
    "matches = A.search_around_sky(B,seplimit=2*u.arcsec) # 2 arc sec\n",
    "print(f'cross match time Skycoords {time.time()-ts}')\n",
    "del A\n",
    "del B"
   ]
  },
  {
   "cell_type": "markdown",
   "metadata": {},
   "source": [
    "My implementation is a little faster than Astropy, but this is mostly because in the source of .search_around_sky() the tree query is forced to use only one worker. My method will perform better the more core that are available."
   ]
  }
 ],
 "metadata": {
  "kernelspec": {
   "display_name": "Python 3.12.4 ('speedPy')",
   "language": "python",
   "name": "python3"
  },
  "language_info": {
   "codemirror_mode": {
    "name": "ipython",
    "version": 3
   },
   "file_extension": ".py",
   "mimetype": "text/x-python",
   "name": "python",
   "nbconvert_exporter": "python",
   "pygments_lexer": "ipython3",
   "version": "3.12.4"
  },
  "orig_nbformat": 4,
  "vscode": {
   "interpreter": {
    "hash": "8546854d9a4d22cf7d2e58b1f2f018da73cc257224ade4622f99aada43e3d768"
   }
  }
 },
 "nbformat": 4,
 "nbformat_minor": 2
}
